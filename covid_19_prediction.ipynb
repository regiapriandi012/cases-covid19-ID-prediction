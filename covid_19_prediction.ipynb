{
 "cells": [
  {
   "cell_type": "code",
   "execution_count": 1,
   "metadata": {
    "collapsed": true,
    "jupyter": {
     "outputs_hidden": true
    },
    "pycharm": {
     "name": "#%%\n"
    }
   },
   "outputs": [
    {
     "name": "stdout",
     "output_type": "stream",
     "text": [
      "    Date   NewCases\n",
      "0      1  47.727273\n",
      "1      2  44.970588\n",
      "2      3  49.323529\n",
      "3      4  56.411765\n",
      "4      5  53.411765\n",
      "5      6  55.382353\n",
      "6      7  72.676471\n",
      "7      8  67.029412\n",
      "8      9  55.647059\n",
      "9     10  49.617647\n",
      "10    11  49.794118\n",
      "11    12  57.000000\n",
      "12    13  61.735294\n",
      "13    14  67.764706\n",
      "14    15  68.235294\n",
      "15    16  60.088235\n",
      "16    17  53.529412\n",
      "17    18  49.176471\n",
      "18    19  55.823529\n",
      "19    20  67.411765\n",
      "20    21  65.588235\n",
      "21    22  62.235294\n",
      "22    23  59.911765\n",
      "23    24  55.205882\n",
      "24\n",
      "[0.39376308]\n",
      "52.8153723940169\n"
     ]
    },
    {
     "name": "stderr",
     "output_type": "stream",
     "text": [
      "C:\\Users\\regia\\anaconda3\\envs\\myenv\\lib\\site-packages\\ipykernel_launcher.py:27: MatplotlibDeprecationWarning: Adding an axes using the same arguments as a previous axes currently reuses the earlier instance.  In a future version, a new instance will always be created and returned.  Meanwhile, this warning can be suppressed, and the future behavior ensured, by passing a unique label to each axes instance.\n"
     ]
    },
    {
     "data": {
      "image/png": "[encoded data removed]",
      "text/plain": [
       "<Figure size 432x288 with 1 Axes>"
      ]
     },
     "metadata": {
      "needs_background": "light"
     },
     "output_type": "display_data"
    }
   ],
   "source": [
    "import numpy as np\n",
    "import matplotlib.pyplot as plt\n",
    "from sklearn.linear_model import LinearRegression\n",
    "import pandas as pd\n",
    "\n",
    "df = pd.read_csv(\"covid_19_indonesia_time_series_all.csv\", delimiter=\",\")\n",
    "\n",
    "case_per_day = df.groupby(\"Date\").NewCases.mean().reset_index()\n",
    "print(case_per_day)\n",
    "\n",
    "X = case_per_day[\"Date\"]\n",
    "X = X.values.reshape(-1, 1)\n",
    "\n",
    "y = case_per_day[\"NewCases\"]\n",
    "print(len(y))\n",
    "\n",
    "plt.scatter(X, y)\n",
    "\n",
    "regression = LinearRegression()\n",
    "regression.fit(X,y)\n",
    "\n",
    "print(regression.coef_)\n",
    "print(regression.intercept_)\n",
    "\n",
    "y_predict = regression.predict(X)\n",
    "\n",
    "ax = plt.subplot()\n",
    "\n",
    "plt.plot(X, y_predict)\n",
    "\n",
    "ax.set_xticks([1,5,10,15,20,25])\n",
    "ax.set_xticklabels([\"1\",\"5\",\"10\",\"15\",\"20\",\"25\"])\n",
    "\n",
    "plt.xlabel(\"tanggal di bulan agustus\")\n",
    "plt.ylabel(\"kasus perhari\")\n",
    "\n",
    "plt.savefig(\"covid19_0.JPEG\")\n",
    "\n",
    "plt.show()"
   ]
  },
  {
   "cell_type": "code",
   "execution_count": 2,
   "metadata": {
    "collapsed": false,
    "jupyter": {
     "outputs_hidden": false
    },
    "pycharm": {
     "name": "#%%\n"
    }
   },
   "outputs": [
    {
     "name": "stdout",
     "output_type": "stream",
     "text": [
      "[0.39376308]\n",
      "52.8153723940169\n"
     ]
    },
    {
     "name": "stderr",
     "output_type": "stream",
     "text": [
      "C:\\Users\\regia\\anaconda3\\envs\\myenv\\lib\\site-packages\\ipykernel_launcher.py:29: MatplotlibDeprecationWarning: Adding an axes using the same arguments as a previous axes currently reuses the earlier instance.  In a future version, a new instance will always be created and returned.  Meanwhile, this warning can be suppressed, and the future behavior ensured, by passing a unique label to each axes instance.\n"
     ]
    },
    {
     "data": {
      "image/png": "[encoded data removed]",
      "text/plain": [
       "<Figure size 432x288 with 1 Axes>"
      ]
     },
     "metadata": {
      "needs_background": "light"
     },
     "output_type": "display_data"
    }
   ],
   "source": [
    "import matplotlib.pyplot as plt\n",
    "import numpy as np\n",
    "from sklearn.linear_model import LinearRegression\n",
    "import pandas as pd\n",
    "\n",
    "df = pd.read_csv(\"covid_19_indonesia_time_series_all.csv\")\n",
    "\n",
    "X_future = np.array(range(26, 40))\n",
    "X_future = X_future.reshape(-1, 1)\n",
    "\n",
    "case_per_day = df.groupby(\"Date\").NewCases.mean().reset_index()\n",
    "\n",
    "X = case_per_day[\"Date\"]\n",
    "X = X.values.reshape(-1, 1)\n",
    "\n",
    "y = case_per_day[\"NewCases\"]\n",
    "\n",
    "plt.scatter(X,y)\n",
    "\n",
    "regression = LinearRegression()\n",
    "regression.fit(X,y)\n",
    "\n",
    "print(regression.coef_)\n",
    "print(regression.intercept_)\n",
    "\n",
    "y_predict = regression.predict(X)\n",
    "future_predict = regression.predict(X_future)\n",
    "\n",
    "ax = plt.subplot()\n",
    "\n",
    "plt.plot(X, y_predict)\n",
    "\n",
    "plt.plot(X_future, future_predict)\n",
    "\n",
    "ax.set_xticks([1,5,10,15,20,25,30,35,40])\n",
    "ax.set_xticklabels([\"1\",\"5\",\"10\",\"15\",\"20\",\"25\",\"30\",\"5\",\"10\"])\n",
    "\n",
    "plt.xlabel(\"tanggal di bulan agustus dan september\")\n",
    "plt.ylabel(\"kasus perhari\")\n",
    "\n",
    "plt.savefig(\"covid19.JPEG\")\n",
    "\n",
    "plt.show()\n",
    "\n",
    "\n"
   ]
  }
 ],
 "metadata": {
  "kernelspec": {
   "display_name": "Python 3",
   "language": "python",
   "name": "python3"
  },
  "language_info": {
   "codemirror_mode": {
    "name": "ipython",
    "version": 3
   },
   "file_extension": ".py",
   "mimetype": "text/x-python",
   "name": "python",
   "nbconvert_exporter": "python",
   "pygments_lexer": "ipython3",
   "version": "3.8.3"
  }
 },
 "nbformat": 4,
 "nbformat_minor": 4
}
